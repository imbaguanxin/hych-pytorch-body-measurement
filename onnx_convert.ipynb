{
 "cells": [
  {
   "cell_type": "code",
   "execution_count": 1,
   "metadata": {},
   "outputs": [
    {
     "ename": "ModuleNotFoundError",
     "evalue": "No module named 'DataSource'",
     "output_type": "error",
     "traceback": [
      "\u001b[0;31m---------------------------------------------------------------------------\u001b[0m",
      "\u001b[0;31mModuleNotFoundError\u001b[0m                       Traceback (most recent call last)",
      "\u001b[1;32m/home/gx/repo/hych/body-measurement-pytorch/onnx_convert.ipynb Cell 1\u001b[0m line \u001b[0;36m2\n\u001b[1;32m      <a href='vscode-notebook-cell://ssh-remote%2Bgpu/home/gx/repo/hych/body-measurement-pytorch/onnx_convert.ipynb#W0sdnNjb2RlLXJlbW90ZQ%3D%3D?line=0'>1</a>\u001b[0m \u001b[39mimport\u001b[39;00m \u001b[39mtorch\u001b[39;00m\n\u001b[0;32m----> <a href='vscode-notebook-cell://ssh-remote%2Bgpu/home/gx/repo/hych/body-measurement-pytorch/onnx_convert.ipynb#W0sdnNjb2RlLXJlbW90ZQ%3D%3D?line=1'>2</a>\u001b[0m \u001b[39mfrom\u001b[39;00m \u001b[39mmodel\u001b[39;00m \u001b[39mimport\u001b[39;00m FullModel\n\u001b[1;32m      <a href='vscode-notebook-cell://ssh-remote%2Bgpu/home/gx/repo/hych/body-measurement-pytorch/onnx_convert.ipynb#W0sdnNjb2RlLXJlbW90ZQ%3D%3D?line=2'>3</a>\u001b[0m \u001b[39mfrom\u001b[39;00m \u001b[39mdotenv\u001b[39;00m \u001b[39mimport\u001b[39;00m load_dotenv\n\u001b[1;32m      <a href='vscode-notebook-cell://ssh-remote%2Bgpu/home/gx/repo/hych/body-measurement-pytorch/onnx_convert.ipynb#W0sdnNjb2RlLXJlbW90ZQ%3D%3D?line=3'>4</a>\u001b[0m \u001b[39mimport\u001b[39;00m \u001b[39mos\u001b[39;00m\n",
      "File \u001b[0;32m~/repo/hych/body-measurement-pytorch/model.py:4\u001b[0m\n\u001b[1;32m      1\u001b[0m \u001b[39mimport\u001b[39;00m \u001b[39mtorch\u001b[39;00m\n\u001b[1;32m      2\u001b[0m \u001b[39mimport\u001b[39;00m \u001b[39mtorch\u001b[39;00m\u001b[39m.\u001b[39;00m\u001b[39mnn\u001b[39;00m \u001b[39mas\u001b[39;00m \u001b[39mnn\u001b[39;00m\n\u001b[0;32m----> 4\u001b[0m \u001b[39mfrom\u001b[39;00m \u001b[39mDataSource\u001b[39;00m \u001b[39mimport\u001b[39;00m DataSource\n\u001b[1;32m      5\u001b[0m \u001b[39mclass\u001b[39;00m \u001b[39mExtractorAlexNet\u001b[39;00m(nn\u001b[39m.\u001b[39mModule):\n\u001b[1;32m      6\u001b[0m     \u001b[39mdef\u001b[39;00m \u001b[39m__init__\u001b[39m(\u001b[39mself\u001b[39m, in_channels\u001b[39m=\u001b[39m\u001b[39m1\u001b[39m):\n",
      "\u001b[0;31mModuleNotFoundError\u001b[0m: No module named 'DataSource'"
     ]
    }
   ],
   "source": [
    "import torch\n",
    "from model import FullModel\n",
    "from dotenv import load_dotenv\n",
    "import os"
   ]
  },
  {
   "cell_type": "code",
   "execution_count": null,
   "metadata": {},
   "outputs": [
    {
     "data": {
      "text/plain": [
       "<All keys matched successfully>"
      ]
     },
     "execution_count": 11,
     "metadata": {},
     "output_type": "execute_result"
    }
   ],
   "source": [
    "load_dotenv()\n",
    "ckpt_path = os.path.join(os.getenv(\"MODEL_CHECKPOINT_PATH\"), \"20231030_204710\", \"model_20231030_204710_82.ckpt\")\n",
    "model = FullModel()\n",
    "model.load_state_dict(torch.load(ckpt_path))\n"
   ]
  },
  {
   "cell_type": "code",
   "execution_count": null,
   "metadata": {},
   "outputs": [],
   "source": [
    "onnx_path = os.environ.get(\"ONNX_PATH\")\n",
    "onnx_fn = os.path.join(onnx_path, \"model_1030.onnx\")\n",
    "\n",
    "front = torch.randn(1, 1, 224, 224)\n",
    "side = torch.randn(1, 1, 224, 224)\n",
    "export_output = torch.onnx.export(\n",
    "    model, \n",
    "    (front, side),\n",
    "    onnx_fn,\n",
    "    verbose=False,\n",
    "    input_names=[\"front\", \"side\"],\n",
    "    output_names=[\"output\"],\n",
    "    export_params=True\n",
    ")"
   ]
  },
  {
   "cell_type": "markdown",
   "metadata": {},
   "source": [
    "## verify model"
   ]
  },
  {
   "cell_type": "code",
   "execution_count": null,
   "metadata": {},
   "outputs": [
    {
     "name": "stdout",
     "output_type": "stream",
     "text": [
      "graph main_graph (\n",
      "  %front[FLOAT, 1x1x224x224]\n",
      "  %side[FLOAT, 1x1x224x224]\n",
      ") initializers (\n",
      "  %front_extractor.features.0.weight[FLOAT, 64x1x11x11]\n",
      "  %front_extractor.features.0.bias[FLOAT, 64]\n",
      "  %front_extractor.features.3.weight[FLOAT, 192x64x5x5]\n",
      "  %front_extractor.features.3.bias[FLOAT, 192]\n",
      "  %front_extractor.features.6.weight[FLOAT, 384x192x3x3]\n",
      "  %front_extractor.features.6.bias[FLOAT, 384]\n",
      "  %front_extractor.features.8.weight[FLOAT, 256x384x3x3]\n",
      "  %front_extractor.features.8.bias[FLOAT, 256]\n",
      "  %front_extractor.features.10.weight[FLOAT, 256x256x3x3]\n",
      "  %front_extractor.features.10.bias[FLOAT, 256]\n",
      "  %side_extractor.features.0.weight[FLOAT, 64x1x11x11]\n",
      "  %side_extractor.features.0.bias[FLOAT, 64]\n",
      "  %side_extractor.features.3.weight[FLOAT, 192x64x5x5]\n",
      "  %side_extractor.features.3.bias[FLOAT, 192]\n",
      "  %side_extractor.features.6.weight[FLOAT, 384x192x3x3]\n",
      "  %side_extractor.features.6.bias[FLOAT, 384]\n",
      "  %side_extractor.features.8.weight[FLOAT, 256x384x3x3]\n",
      "  %side_extractor.features.8.bias[FLOAT, 256]\n",
      "  %side_extractor.features.10.weight[FLOAT, 256x256x3x3]\n",
      "  %side_extractor.features.10.bias[FLOAT, 256]\n",
      "  %regressor.features.0.weight[FLOAT, 4096x256x5x5]\n",
      "  %regressor.features.0.bias[FLOAT, 4096]\n",
      "  %regressor.features.3.weight[FLOAT, 4096x4096x1x1]\n",
      "  %regressor.features.3.bias[FLOAT, 4096]\n",
      "  %regressor.features.8.weight[FLOAT, 16x4096x1x1]\n",
      "  %regressor.features.8.bias[FLOAT, 16]\n",
      ") {\n",
      "  %/front_extractor/features/features.0/Conv_output_0 = Conv[dilations = [1, 1], group = 1, kernel_shape = [11, 11], pads = [0, 0, 0, 0], strides = [1, 1]](%front, %front_extractor.features.0.weight, %front_extractor.features.0.bias)\n",
      "  %/front_extractor/features/features.1/Relu_output_0 = Relu(%/front_extractor/features/features.0/Conv_output_0)\n",
      "  %/front_extractor/features/features.2/MaxPool_output_0 = MaxPool[ceil_mode = 0, kernel_shape = [3, 3], pads = [0, 0, 0, 0], strides = [3, 3]](%/front_extractor/features/features.1/Relu_output_0)\n",
      "  %/front_extractor/features/features.3/Conv_output_0 = Conv[dilations = [1, 1], group = 1, kernel_shape = [5, 5], pads = [2, 2, 2, 2], strides = [1, 1]](%/front_extractor/features/features.2/MaxPool_output_0, %front_extractor.features.3.weight, %front_extractor.features.3.bias)\n",
      "  %/front_extractor/features/features.4/Relu_output_0 = Relu(%/front_extractor/features/features.3/Conv_output_0)\n",
      "  %/front_extractor/features/features.5/MaxPool_output_0 = MaxPool[ceil_mode = 0, kernel_shape = [3, 3], pads = [0, 0, 0, 0], strides = [3, 3]](%/front_extractor/features/features.4/Relu_output_0)\n",
      "  %/front_extractor/features/features.6/Conv_output_0 = Conv[dilations = [1, 1], group = 1, kernel_shape = [3, 3], pads = [1, 1, 1, 1], strides = [1, 1]](%/front_extractor/features/features.5/MaxPool_output_0, %front_extractor.features.6.weight, %front_extractor.features.6.bias)\n",
      "  %/front_extractor/features/features.7/Relu_output_0 = Relu(%/front_extractor/features/features.6/Conv_output_0)\n",
      "  %/front_extractor/features/features.8/Conv_output_0 = Conv[dilations = [1, 1], group = 1, kernel_shape = [3, 3], pads = [1, 1, 1, 1], strides = [1, 1]](%/front_extractor/features/features.7/Relu_output_0, %front_extractor.features.8.weight, %front_extractor.features.8.bias)\n",
      "  %/front_extractor/features/features.9/Relu_output_0 = Relu(%/front_extractor/features/features.8/Conv_output_0)\n",
      "  %/front_extractor/features/features.10/Conv_output_0 = Conv[dilations = [1, 1], group = 1, kernel_shape = [3, 3], pads = [1, 1, 1, 1], strides = [1, 1]](%/front_extractor/features/features.9/Relu_output_0, %front_extractor.features.10.weight, %front_extractor.features.10.bias)\n",
      "  %/front_extractor/features/features.11/Relu_output_0 = Relu(%/front_extractor/features/features.10/Conv_output_0)\n",
      "  %/front_extractor/features/features.12/MaxPool_output_0 = MaxPool[ceil_mode = 0, kernel_shape = [3, 3], pads = [0, 0, 0, 0], strides = [3, 3]](%/front_extractor/features/features.11/Relu_output_0)\n",
      "  %/side_extractor/features/features.0/Conv_output_0 = Conv[dilations = [1, 1], group = 1, kernel_shape = [11, 11], pads = [0, 0, 0, 0], strides = [1, 1]](%side, %side_extractor.features.0.weight, %side_extractor.features.0.bias)\n",
      "  %/side_extractor/features/features.1/Relu_output_0 = Relu(%/side_extractor/features/features.0/Conv_output_0)\n",
      "  %/side_extractor/features/features.2/MaxPool_output_0 = MaxPool[ceil_mode = 0, kernel_shape = [3, 3], pads = [0, 0, 0, 0], strides = [3, 3]](%/side_extractor/features/features.1/Relu_output_0)\n",
      "  %/side_extractor/features/features.3/Conv_output_0 = Conv[dilations = [1, 1], group = 1, kernel_shape = [5, 5], pads = [2, 2, 2, 2], strides = [1, 1]](%/side_extractor/features/features.2/MaxPool_output_0, %side_extractor.features.3.weight, %side_extractor.features.3.bias)\n",
      "  %/side_extractor/features/features.4/Relu_output_0 = Relu(%/side_extractor/features/features.3/Conv_output_0)\n",
      "  %/side_extractor/features/features.5/MaxPool_output_0 = MaxPool[ceil_mode = 0, kernel_shape = [3, 3], pads = [0, 0, 0, 0], strides = [3, 3]](%/side_extractor/features/features.4/Relu_output_0)\n",
      "  %/side_extractor/features/features.6/Conv_output_0 = Conv[dilations = [1, 1], group = 1, kernel_shape = [3, 3], pads = [1, 1, 1, 1], strides = [1, 1]](%/side_extractor/features/features.5/MaxPool_output_0, %side_extractor.features.6.weight, %side_extractor.features.6.bias)\n",
      "  %/side_extractor/features/features.7/Relu_output_0 = Relu(%/side_extractor/features/features.6/Conv_output_0)\n",
      "  %/side_extractor/features/features.8/Conv_output_0 = Conv[dilations = [1, 1], group = 1, kernel_shape = [3, 3], pads = [1, 1, 1, 1], strides = [1, 1]](%/side_extractor/features/features.7/Relu_output_0, %side_extractor.features.8.weight, %side_extractor.features.8.bias)\n",
      "  %/side_extractor/features/features.9/Relu_output_0 = Relu(%/side_extractor/features/features.8/Conv_output_0)\n",
      "  %/side_extractor/features/features.10/Conv_output_0 = Conv[dilations = [1, 1], group = 1, kernel_shape = [3, 3], pads = [1, 1, 1, 1], strides = [1, 1]](%/side_extractor/features/features.9/Relu_output_0, %side_extractor.features.10.weight, %side_extractor.features.10.bias)\n",
      "  %/side_extractor/features/features.11/Relu_output_0 = Relu(%/side_extractor/features/features.10/Conv_output_0)\n",
      "  %/side_extractor/features/features.12/MaxPool_output_0 = MaxPool[ceil_mode = 0, kernel_shape = [3, 3], pads = [0, 0, 0, 0], strides = [3, 3]](%/side_extractor/features/features.11/Relu_output_0)\n",
      "  %/Max_output_0 = Max(%/front_extractor/features/features.12/MaxPool_output_0, %/side_extractor/features/features.12/MaxPool_output_0)\n",
      "  %/regressor/features/features.0/Conv_output_0 = Conv[dilations = [1, 1], group = 1, kernel_shape = [5, 5], pads = [0, 0, 0, 0], strides = [1, 1]](%/Max_output_0, %regressor.features.0.weight, %regressor.features.0.bias)\n",
      "  %/regressor/features/features.1/Relu_output_0 = Relu(%/regressor/features/features.0/Conv_output_0)\n",
      "  %/regressor/features/features.3/Conv_output_0 = Conv[dilations = [1, 1], group = 1, kernel_shape = [1, 1], pads = [0, 0, 0, 0], strides = [1, 1]](%/regressor/features/features.1/Relu_output_0, %regressor.features.3.weight, %regressor.features.3.bias)\n",
      "  %/regressor/features/features.4/Relu_output_0 = Relu(%/regressor/features/features.3/Conv_output_0)\n",
      "  %/regressor/features/features.6/AveragePool_output_0 = AveragePool[ceil_mode = 0, count_include_pad = 1, kernel_shape = [3, 3], pads = [0, 0, 0, 0], strides = [3, 3]](%/regressor/features/features.4/Relu_output_0)\n",
      "  %/regressor/features/features.7/Relu_output_0 = Relu(%/regressor/features/features.6/AveragePool_output_0)\n",
      "  %/regressor/features/features.8/Conv_output_0 = Conv[dilations = [1, 1], group = 1, kernel_shape = [1, 1], pads = [0, 0, 0, 0], strides = [1, 1]](%/regressor/features/features.7/Relu_output_0, %regressor.features.8.weight, %regressor.features.8.bias)\n",
      "  %output = Flatten[axis = 1](%/regressor/features/features.8/Conv_output_0)\n",
      "  return %output\n",
      "}\n"
     ]
    }
   ],
   "source": [
    "import onnxruntime as ort\n",
    "import numpy as np \n",
    "import onnx\n",
    "\n",
    "m = onnx.load(onnx_fn)\n",
    "onnx.checker.check_model(m)\n",
    "print(onnx.helper.printable_graph(m.graph))"
   ]
  }
 ],
 "metadata": {
  "kernelspec": {
   "display_name": "torch210",
   "language": "python",
   "name": "python3"
  },
  "language_info": {
   "codemirror_mode": {
    "name": "ipython",
    "version": 3
   },
   "file_extension": ".py",
   "mimetype": "text/x-python",
   "name": "python",
   "nbconvert_exporter": "python",
   "pygments_lexer": "ipython3",
   "version": "3.10.12"
  }
 },
 "nbformat": 4,
 "nbformat_minor": 2
}
