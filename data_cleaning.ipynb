{
 "cells": [
  {
   "cell_type": "code",
   "execution_count": null,
   "metadata": {},
   "outputs": [],
   "source": [
    "import scipy.io as sio\n",
    "import numpy as np\n",
    "from PIL import Image\n",
    "import os\n",
    "import h5py\n",
    "import pandas as pd\n",
    "\n",
    "from DataSource import DataSource\n",
    "\n",
    "dataSource = DataSource()\n",
    "\n",
    "selected = {\n",
    "    \"A\":\"Across_Back\", # this is not A in paper.\n",
    "    \"B\":\"NeckBase_Circ\",\n",
    "    \"C\":\"Torso_Height\", # not in male\n",
    "    \"D\":\"BUST_Circ\",\n",
    "    \"E\":\"NaturalWAIST_Circ\",\n",
    "    \"F\":\"HIP_Circ\",\n",
    "    \"G\":\"Wrist_Circ\",\n",
    "    \"H\":\"Bicep_Circ\",\n",
    "    \"I\":\"Elbow_Circ\",\n",
    "    \"J\":\"Shoulder_to_Wrist\",\n",
    "    \"K\":\"Inseam\",\n",
    "    \"L\":\"Thigh_Circ\",\n",
    "    \"M\":\"Calf_Circ\",\n",
    "    \"N\":\"Ankle_Circ\",\n",
    "    \"O\":\"Head_Top_Height\",\n",
    "    \"P\":\"Shoulder_to_Shoulder\",\n",
    "}"
   ]
  },
  {
   "cell_type": "code",
   "execution_count": null,
   "metadata": {},
   "outputs": [],
   "source": [
    "def load_one_mat_file(fn, name):\n",
    "    mat = sio.loadmat(fn)\n",
    "    data = mat['s'][0,0]\n",
    "    result, names = [], []\n",
    "    result.append(name)\n",
    "    names.append(\"name\")\n",
    "    for name in enumerate(data.dtype.names):\n",
    "        result.append(data[name[1]][0,0])\n",
    "        names.append(name[1])\n",
    "    return result, names\n",
    "\n",
    "def load_one_pic(fn, resize=(224, 224), channel=1):\n",
    "    img = Image.open(fn)\n",
    "    img = img.resize(resize)\n",
    "    npimg = np.asarray(img)\n",
    "    npimg = np.reshape(npimg, (channel, resize[0], resize[1]))\n",
    "    return npimg\n",
    "\n",
    "def build_body_measurement_df():\n",
    "    files = os.listdir(dataSource.getBodyMeasurementPath())\n",
    "    data, names = [], []\n",
    "    for fn in files:\n",
    "        if fn.endswith(\".mat\"):\n",
    "            result, names = load_one_mat_file(os.path.join(dataSource.getBodyMeasurementPath(), fn), fn.split(\".\")[0])\n",
    "            data.append(result)\n",
    "    df = pd.DataFrame(data, columns=names)\n",
    "    return df"
   ]
  },
  {
   "cell_type": "code",
   "execution_count": null,
   "metadata": {},
   "outputs": [],
   "source": [
    "body_measurement_df = build_body_measurement_df()\n",
    "body_measurement_df = body_measurement_df.map(lambda x: np.nan if type(x) != str and x < 0 else x)\n",
    "body_measurement_df = body_measurement_df.dropna()\n",
    "body_measurement_df.to_csv(\"female_body.csv\")\n",
    "print(body_measurement_df.shape)\n",
    "body_measurement_df.head()"
   ]
  },
  {
   "cell_type": "code",
   "execution_count": null,
   "metadata": {},
   "outputs": [],
   "source": [
    "# train, validate, test split\n",
    "# train: 70%, validate: 20%, test: 10%\n",
    "\n",
    "def split_train_validate_test(df, train=0.7, validate=0.2, test=0.1):\n",
    "    train_df = df[:int(len(df)*train)]\n",
    "    validate_df = df[int(len(df)*train):int(len(df)*(train+validate))]\n",
    "    test_df = df[int(len(df)*(train+validate)):]\n",
    "    return train_df, validate_df, test_df\n",
    "\n",
    "# build h5py\n",
    "def build_h5py(df, selected_names, h5py_fn):\n",
    "    selected_df = df[selected_names + [\"name\"]]\n",
    "    front_data = []\n",
    "    side_data = []\n",
    "    labels = []\n",
    "    label_names = selected_names\n",
    "\n",
    "    for i in range(len(selected_df)):\n",
    "        name = selected_df.iloc[i][\"name\"]\n",
    "        front_fn = os.path.join(dataSource.getFrontPath(), name + \".png\")\n",
    "        side_fn = os.path.join(dataSource.getSidePath(), name + \".png\")\n",
    "        if not os.path.exists(front_fn) or not os.path.exists(side_fn):\n",
    "            continue\n",
    "        front = load_one_pic(front_fn)\n",
    "        side = load_one_pic(side_fn)\n",
    "        label = selected_df.iloc[i][selected_names].values\n",
    "        front_data.append(front)\n",
    "        side_data.append(side)\n",
    "        labels.append(np.array(label, dtype=np.float32))\n",
    "    print(f\"selected data length: {len(labels)}\")\n",
    "    f = h5py.File(h5py_fn, \"w\")\n",
    "    f['data_front'] = front_data\n",
    "    f['data_side'] = side_data\n",
    "    f['labels'] = labels\n",
    "    f['label_names'] = label_names\n",
    "    f.close()"
   ]
  },
  {
   "cell_type": "code",
   "execution_count": null,
   "metadata": {},
   "outputs": [],
   "source": [
    "split_train_validate_test(body_measurement_df)\n",
    "selected_names = list(selected.values())\n",
    "train_df, val_df, test_df = split_train_validate_test(body_measurement_df)\n",
    "build_h5py(train_df, selected_names, dataSource.getTrainH5Path())\n",
    "build_h5py(val_df, selected_names, dataSource.getValidateH5Path())\n",
    "build_h5py(test_df, selected_names, dataSource.getTestH5Path())\n",
    "build_h5py(body_measurement_df, selected_names, dataSource.getMeasurementH5Path())"
   ]
  },
  {
   "cell_type": "code",
   "execution_count": null,
   "metadata": {},
   "outputs": [],
   "source": [
    "f = h5py.File(dataSource.getMeasurementH5Path(), \"r\")\n",
    "fnt = f['data_front']\n",
    "print(fnt.shape)\n",
    "print(fnt.dtype)\n",
    "lbs = f['labels']\n",
    "print(lbs.shape)\n",
    "print(np.max(lbs, axis=0))\n",
    "print(np.min(lbs, axis=0))\n",
    "f.close()"
   ]
  },
  {
   "cell_type": "code",
   "execution_count": null,
   "metadata": {},
   "outputs": [],
   "source": []
  }
 ],
 "metadata": {
  "kernelspec": {
   "display_name": "Python 3 (ipykernel)",
   "language": "python",
   "name": "python3"
  },
  "language_info": {
   "codemirror_mode": {
    "name": "ipython",
    "version": 3
   },
   "file_extension": ".py",
   "mimetype": "text/x-python",
   "name": "python",
   "nbconvert_exporter": "python",
   "pygments_lexer": "ipython3",
   "version": "3.12.0"
  }
 },
 "nbformat": 4,
 "nbformat_minor": 2
}
