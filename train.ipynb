{
 "cells": [
  {
   "cell_type": "code",
   "execution_count": null,
   "metadata": {},
   "outputs": [],
   "source": [
    "import torch\n",
    "from torch.utils.data import DataLoader\n",
    "import torchvision\n",
    "from model import FullModelInCode, FullModelInPaper, FullModel\n",
    "from dataset import BodyMeasurementDataset\n",
    "import matplotlib.pyplot as plt\n",
    "import numpy as np\n",
    "from tqdm import tqdm\n",
    "from datetime import datetime\n",
    "from torch.utils.tensorboard import SummaryWriter\n",
    "\n",
    "from DataSource import DataSource\n",
    "dataSource = DataSource()"
   ]
  },
  {
   "cell_type": "markdown",
   "metadata": {},
   "source": [
    "## Load dataset and model"
   ]
  },
  {
   "cell_type": "code",
   "execution_count": null,
   "metadata": {},
   "outputs": [],
   "source": [
    "device = 'cpu'\n",
    "if torch.cuda.is_available():\n",
    "    device = 'cuda:0'\n",
    "if torch.backends.mps.is_available():\n",
    "    device = 'mps:0'\n",
    "\n",
    "training_set = BodyMeasurementDataset(dataSource.getTrainH5Path())\n",
    "training_loader = DataLoader(training_set, batch_size=32, shuffle=True)\n",
    "validate_set = BodyMeasurementDataset(dataSource.getValidateH5Path())\n",
    "validate_loader = DataLoader(validate_set, batch_size=16, shuffle=True)\n",
    "# model_in_code = FullModelInCode()\n",
    "# model_in_paper = FullModelInPaper()\n",
    "model = FullModel()"
   ]
  },
  {
   "cell_type": "markdown",
   "metadata": {},
   "source": [
    "## show samples of dataset"
   ]
  },
  {
   "cell_type": "code",
   "execution_count": null,
   "metadata": {},
   "outputs": [],
   "source": [
    "def showimg(img):\n",
    "    npimg = img.numpy()\n",
    "    plt.imshow(np.transpose(npimg, (1, 2, 0)))\n",
    "\n",
    "dataiter = iter(training_loader)\n",
    "fronts, sides, labels = next(dataiter)\n",
    "img_grid = torchvision.utils.make_grid(fronts)\n",
    "showimg(img_grid)\n",
    "img_grid = torchvision.utils.make_grid(sides)\n",
    "showimg(img_grid)"
   ]
  },
  {
   "cell_type": "markdown",
   "metadata": {},
   "source": [
    "## Train model"
   ]
  },
  {
   "cell_type": "code",
   "execution_count": null,
   "metadata": {},
   "outputs": [],
   "source": [
    "def train_one_epoch(model, dataloader, optimizer, device, epoch_index, tb_writer, write_every=5):\n",
    "    running_loss = 0.0\n",
    "    all_loss = 0.0\n",
    "    \n",
    "    for i, data in tqdm(enumerate(dataloader)):\n",
    "        fronts, sides, labels = data\n",
    "        fronts, sides, labels = fronts.to(device), sides.to(device), labels.to(device)\n",
    "        optimizer.zero_grad()\n",
    "        outputs = model(fronts, sides)\n",
    "        loss = torch.nn.functional.mse_loss(outputs, labels)\n",
    "        loss.backward()\n",
    "        optimizer.step()\n",
    "\n",
    "        running_loss = loss.item()\n",
    "        all_loss += running_loss\n",
    "        if i % write_every == write_every - 1:\n",
    "            tb_x = epoch_index * len(training_loader) + i + 1\n",
    "            tb_writer.add_scalar('Loss/train', running_loss, tb_x)\n",
    "            # print('  epoch: {} batch: {} loss: {}'.format(epoch_index, i, running_loss))\n",
    "    \n",
    "    return all_loss / len(dataloader)\n",
    "\n",
    "def train(model, train_dataloader, validate_dataloader, device, lr=0.001, write_every=10, epochs=150):\n",
    "    timestamp = datetime.now().strftime('%Y%m%d_%H%M%S')\n",
    "    writer = SummaryWriter('runs/model_{}'.format(timestamp))\n",
    "    optimizer = torch.optim.Adam(model.parameters(), lr=lr)\n",
    "    model.to(device)\n",
    "    epoch_number = 0\n",
    "    best_vloss = 1_000_000.\n",
    "\n",
    "    for epoch in range(epochs):\n",
    "        print('EPOCH {}:'.format(epoch_number + 1))\n",
    "\n",
    "        # Make sure gradient tracking is on, and do a pass over the data\n",
    "        model.train(True)\n",
    "        avg_loss = train_one_epoch(model, train_dataloader, optimizer, device, epoch_number, writer)\n",
    "\n",
    "        running_vloss = 0.0\n",
    "        # Set the model to evaluation mode, disabling dropout and using population\n",
    "        # statistics for batch normalization.\n",
    "        model.eval()\n",
    "\n",
    "        # Disable gradient computation and reduce memory consumption.\n",
    "        with torch.no_grad():\n",
    "            for i, vdata in enumerate(validate_dataloader):\n",
    "                vfronts, vsides, vlabels = vdata\n",
    "                vfronts, vsides, vlabels = vfronts.to(device), vsides.to(device), vlabels.to(device)\n",
    "                voutputs = model(vfronts, vsides)\n",
    "                vloss = torch.nn.functional.mse_loss(voutputs, vlabels)\n",
    "                running_vloss += vloss\n",
    "\n",
    "        avg_vloss = running_vloss / (i + 1)\n",
    "        print('LOSS train {} valid {}'.format(avg_loss, avg_vloss))\n",
    "\n",
    "        # Log the running loss averaged per batch\n",
    "        # for both training and validation\n",
    "        writer.add_scalars('Training vs. Validation Loss',\n",
    "                        { 'Training' : avg_loss, 'Validation' : avg_vloss },\n",
    "                        epoch_number + 1)\n",
    "        writer.flush()\n",
    "\n",
    "        # Track best performance, and save the model's state\n",
    "        if avg_vloss < best_vloss:\n",
    "            best_vloss = avg_vloss\n",
    "            torch.save(model.state_dict(), dataSource.getModelPath(timestamp, epoch_number))\n",
    "\n",
    "        epoch_number += 1"
   ]
  },
  {
   "cell_type": "markdown",
   "metadata": {},
   "source": [
    "## Train model (from scratch)"
   ]
  },
  {
   "cell_type": "code",
   "execution_count": null,
   "metadata": {},
   "outputs": [],
   "source": [
    "train(model, training_loader, validate_loader, device)"
   ]
  },
  {
   "cell_type": "code",
   "execution_count": null,
   "metadata": {},
   "outputs": [],
   "source": [
    "# train from a checkpoint\n",
    "model = FullModel()\n",
    "model.load_state_dict(torch.load('model/model_20231028_220313_138.ckpt'))\n",
    "train(model, training_loader, validate_loader, device, lr=0.0001, epochs=200)"
   ]
  },
  {
   "cell_type": "markdown",
   "metadata": {},
   "source": [
    "## Train model replicated from code (from scratch)"
   ]
  },
  {
   "cell_type": "markdown",
   "metadata": {},
   "source": [
    "## Train model replicated from paper (from scratch)"
   ]
  }
 ],
 "metadata": {
  "kernelspec": {
   "display_name": "torch210",
   "language": "python",
   "name": "python3"
  },
  "language_info": {
   "codemirror_mode": {
    "name": "ipython",
    "version": 3
   },
   "file_extension": ".py",
   "mimetype": "text/x-python",
   "name": "python",
   "nbconvert_exporter": "python",
   "pygments_lexer": "ipython3",
   "version": "3.9.6"
  }
 },
 "nbformat": 4,
 "nbformat_minor": 2
}
